{
 "cells": [
  {
   "cell_type": "markdown",
   "metadata": {},
   "source": [
    "### Ejercicio 1: Trabajar con argumentos en funciones"
   ]
  },
  {
   "cell_type": "code",
   "execution_count": 1,
   "metadata": {},
   "outputs": [
    {
     "name": "stdout",
     "output_type": "stream",
     "text": [
      "Reporte de combustibles:\n",
      "    Promedio: 78.33333333333333%\n",
      "    Tanque 1: 80%\n",
      "    Tanque 2: 70%\n",
      "    Tanque 3: 85% \n",
      "    \n",
      "Reporte de combustibles:\n",
      "    Promedio: 78.0%\n",
      "    Tanque 1: 88%\n",
      "    Tanque 2: 76%\n",
      "    Tanque 3: 70% \n",
      "    \n"
     ]
    }
   ],
   "source": [
    "# Función para leer 3 tanques de combustible y que muestre el promedio\n",
    "def reporte(tanque1, tanque2, tanque3):\n",
    "    promedio = (tanque1 + tanque2 + tanque3) / 3\n",
    "    return f\"\"\"Reporte de combustibles:\n",
    "    Promedio: {promedio}%\n",
    "    Tanque 1: {tanque1}%\n",
    "    Tanque 2: {tanque2}%\n",
    "    Tanque 3: {tanque3}% \n",
    "    \"\"\"\n",
    "\n",
    "# Llamada a la función que genera el reporte\n",
    "print(reporte(80, 70, 85))\n",
    "\n",
    "# Función promedio \n",
    "def obtener_promedio(valores):\n",
    "    suma = sum(valores)\n",
    "    num_datos = len(valores)\n",
    "    return suma / num_datos\n",
    "\n",
    "# Prueba de la función obtener_promedio con una lista de enteros\n",
    "obtener_promedio([80, 85, 81]) \n",
    "\n",
    "# Actualización de la función\n",
    "def reporte(tanque1, tanque2, tanque3):\n",
    "    return f\"\"\"Reporte de combustibles:\n",
    "    Promedio: {obtener_promedio([tanque1, tanque2, tanque3])}%\n",
    "    Tanque 1: {tanque1}%\n",
    "    Tanque 2: {tanque2}%\n",
    "    Tanque 3: {tanque3}% \n",
    "    \"\"\"\n",
    "\n",
    "# Nueva llamada a la función acturalizada \n",
    "print(reporte(88, 76, 70))"
   ]
  },
  {
   "cell_type": "markdown",
   "metadata": {},
   "source": [
    "### Ejercicio 2: Trabajar con argumentos de palabras clave en funciones"
   ]
  },
  {
   "cell_type": "code",
   "execution_count": 4,
   "metadata": {},
   "outputs": [
    {
     "name": "stdout",
     "output_type": "stream",
     "text": [
      "\n",
      "    Misión hacia Luna\n",
      "    Tiempo total de vuelo: 65 minutos\n",
      "    Cantidad total de combustible: 500000 galones\n",
      "    \n",
      "\n",
      "    Misión hacia Luna\n",
      "    Tiempo total de vuelo: 76 minutos\n",
      "    Cantidad total de combustible: 500000 galones\n",
      "    \n",
      "\n",
      "    Misión hacia Luna\n",
      "    Tiempo de vuelo: 74 minutos\n",
      "    Cantidad total de combustible: 500000 galones\n",
      "    tanque interno --> 300000 galones restantes\n",
      "tanque externo --> 200000 galones restantes\n",
      "\n"
     ]
    }
   ],
   "source": [
    "# Función con un informe preciso de la misión. \n",
    "# Considerando hora de prelanzamiento, tiempo de vuelo, destino, tanque externo y tanque interno\n",
    "def informe_mision(hora_prelanzamiento, tiempo_vuelo, destino, tanque_externo, tanque_interno):\n",
    "    return f\"\"\"\n",
    "    Misión hacia {destino}\n",
    "    Tiempo total de vuelo: {hora_prelanzamiento + tiempo_vuelo} minutos\n",
    "    Cantidad total de combustible: {tanque_externo + tanque_interno} galones\n",
    "    \"\"\"\n",
    "\n",
    "print(informe_mision(14, 51, \"Luna\", 200000, 300000))\n",
    "\n",
    "# Creación de nueva función considerando minutos adicionales y tanques adicionales de combustible.\n",
    "def informe_mision(destino, *minutos, **reservas_combustible):\n",
    "    return f\"\"\"\n",
    "    Misión hacia {destino}\n",
    "    Tiempo total de vuelo: {sum(minutos)} minutos\n",
    "    Cantidad total de combustible: {sum(reservas_combustible.values())} galones\n",
    "    \"\"\"\n",
    "\n",
    "print(informe_mision(\"Luna\", 10, 15, 51, interno=300000, externo=200000))\n",
    "\n",
    "# Nueva función que utiliza el nombre de cada tanque en el informe\n",
    "def informe_mision(destino, *minutos, **reservas_combustible):\n",
    "    reporte_final = f\"\"\"\n",
    "    Misión hacia {destino}\n",
    "    Tiempo de vuelo: {sum(minutos)} minutos\n",
    "    Cantidad total de combustible: {sum(reservas_combustible.values())} galones\n",
    "    \"\"\"\n",
    "    for nombre_tanque, galones in reservas_combustible.items():\n",
    "        reporte_final += f\"tanque {nombre_tanque} --> {galones} galones restantes\\n\"\n",
    "    return reporte_final\n",
    "\n",
    "print(informe_mision(\"Luna\", 8, 11, 55, interno=300000, externo=200000))"
   ]
  }
 ],
 "metadata": {
  "interpreter": {
   "hash": "916dbcbb3f70747c44a77c7bcd40155683ae19c65e1c03b4aa3499c5328201f1"
  },
  "kernelspec": {
   "display_name": "Python 3.8.10 64-bit",
   "language": "python",
   "name": "python3"
  },
  "language_info": {
   "codemirror_mode": {
    "name": "ipython",
    "version": 3
   },
   "file_extension": ".py",
   "mimetype": "text/x-python",
   "name": "python",
   "nbconvert_exporter": "python",
   "pygments_lexer": "ipython3",
   "version": "3.8.10"
  },
  "orig_nbformat": 4
 },
 "nbformat": 4,
 "nbformat_minor": 2
}
