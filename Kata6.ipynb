{
 "cells": [
  {
   "cell_type": "markdown",
   "metadata": {},
   "source": [
    "### Ejercicio 1: Crear y usar listas de Python\n"
   ]
  },
  {
   "cell_type": "code",
   "execution_count": 1,
   "metadata": {},
   "outputs": [
    {
     "name": "stdout",
     "output_type": "stream",
     "text": [
      "Hay 8 planets\n",
      "Plutón es el último planeta\n"
     ]
    }
   ],
   "source": [
    "# Creación y muestra de la lista de planetas\n",
    "planets = [\"Mercurio\", \"Venus\", \"Tierra\", \"Marte\", \"Jupiter\", \"Saturno\", \"Urano\", \"Neptuno\"]\n",
    "print(\"Hay\", len(planets), \"planets\")\n",
    "\n",
    "# Adición de plutón y muestra del último elemento\n",
    "planets.append(\"Plutón\")\n",
    "print(planets[-1], \"es el último planeta\")"
   ]
  },
  {
   "cell_type": "markdown",
   "metadata": {},
   "source": [
    "### Ejercicio 2: Trabajando con datos de una lista"
   ]
  },
  {
   "cell_type": "code",
   "execution_count": 2,
   "metadata": {},
   "outputs": [
    {
     "name": "stdout",
     "output_type": "stream",
     "text": [
      "Los planetas más cercanos al Sol que Saturn son\n",
      "['Mercury', 'Venus', 'Earth', 'Mars', 'Jupiter']\n",
      "Los planetas más lejanos al Sol que Saturn son\n",
      "Neptune\n"
     ]
    }
   ],
   "source": [
    "# Lista de planetas\n",
    "planets = ['Mercury', 'Venus', 'Earth', 'Mars', 'Jupiter', 'Saturn', 'Neptune']\n",
    "\n",
    "# Solicitud del nombre de un planeta\n",
    "planeta_ingresado = input(\"Ingresa el nombre del planeta (con mayúscula al inicio)\")\n",
    "\n",
    "# Busqueda del planeta en la lista\n",
    "pos_planeta = planets.index(planeta_ingresado)\n",
    "\n",
    "# Muestra de los planetas más cercanos al sol\n",
    "print(\"Los planetas más cercanos al Sol que \" + planeta_ingresado + \" son\")\n",
    "print(planets[0:pos_planeta])\n",
    "\n",
    "# Muestra de los planetas más lejanos al sol\n",
    "print(\"Los planetas más lejanos al Sol que \" + planeta_ingresado + \" son\")\n",
    "print(planets[pos_planeta + 1])"
   ]
  }
 ],
 "metadata": {
  "interpreter": {
   "hash": "916dbcbb3f70747c44a77c7bcd40155683ae19c65e1c03b4aa3499c5328201f1"
  },
  "kernelspec": {
   "display_name": "Python 3.8.10 64-bit",
   "language": "python",
   "name": "python3"
  },
  "language_info": {
   "codemirror_mode": {
    "name": "ipython",
    "version": 3
   },
   "file_extension": ".py",
   "mimetype": "text/x-python",
   "name": "python",
   "nbconvert_exporter": "python",
   "pygments_lexer": "ipython3",
   "version": "3.8.10"
  },
  "orig_nbformat": 4
 },
 "nbformat": 4,
 "nbformat_minor": 2
}
