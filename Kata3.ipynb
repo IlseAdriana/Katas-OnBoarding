{
 "cells": [
  {
   "cell_type": "markdown",
   "metadata": {},
   "source": [
    "### Problema 1"
   ]
  },
  {
   "cell_type": "code",
   "execution_count": 2,
   "metadata": {},
   "outputs": [
    {
     "name": "stdout",
     "output_type": "stream",
     "text": [
      "Un asteroide se acerca demasiado rápido!\n"
     ]
    }
   ],
   "source": [
    "asteroide = 49\n",
    "if (asteroide > 25):\n",
    "    print(\"¡Advertencia, un asteroide se acerca demasiado rápido!\")\n",
    "else:\n",
    "    print(\"¡Sigue con tu día!\")"
   ]
  },
  {
   "cell_type": "markdown",
   "metadata": {},
   "source": [
    "### Problema 2"
   ]
  },
  {
   "cell_type": "code",
   "execution_count": 3,
   "metadata": {},
   "outputs": [
    {
     "name": "stdout",
     "output_type": "stream",
     "text": [
      "No hay nada que ver aquí\n"
     ]
    }
   ],
   "source": [
    "asteroide = 19\n",
    "if (asteroide > 20):\n",
    "    print(\"¡Mira, hay un rayo de luz en el cielo!\") \n",
    "elif (asteroide == 20):\n",
    "    print(\"¡Mira, hay un rayo de luz en el cielo!\") \n",
    "else:    \n",
    "    print(\"No hay nada que ver aquí\")\n",
    "    "
   ]
  },
  {
   "cell_type": "markdown",
   "metadata": {},
   "source": [
    "### Problema 3"
   ]
  },
  {
   "cell_type": "code",
   "execution_count": 5,
   "metadata": {},
   "outputs": [
    {
     "name": "stdout",
     "output_type": "stream",
     "text": [
      "¡Mira, hay un rayo de luz en el cielo!\n"
     ]
    }
   ],
   "source": [
    "velocidad = 25\n",
    "tamaño = 40\n",
    "if velocidad > 25 and tamaño > 25:\n",
    "    print(\"¡Advertencia, un asteroide se acerca demasiado rápido!\")\n",
    "elif velocidad >= 20:\n",
    "    print(\"¡Mira, hay un rayo de luz en el cielo!\") \n",
    "elif tamaño < 25:\n",
    "    print(\"No hay nada que ver aquí\")\n",
    "else:\n",
    "    print(\"No hay nada que ver aquí\")"
   ]
  }
 ],
 "metadata": {
  "interpreter": {
   "hash": "916dbcbb3f70747c44a77c7bcd40155683ae19c65e1c03b4aa3499c5328201f1"
  },
  "kernelspec": {
   "display_name": "Python 3.8.10 64-bit",
   "language": "python",
   "name": "python3"
  },
  "language_info": {
   "codemirror_mode": {
    "name": "ipython",
    "version": 3
   },
   "file_extension": ".py",
   "mimetype": "text/x-python",
   "name": "python",
   "nbconvert_exporter": "python",
   "pygments_lexer": "ipython3",
   "version": "3.8.10"
  },
  "orig_nbformat": 4
 },
 "nbformat": 4,
 "nbformat_minor": 2
}
