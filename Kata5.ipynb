{
 "cells": [
  {
   "cell_type": "markdown",
   "metadata": {},
   "source": [
    "### Ejercicio 1: Uso de operadores aritméticos"
   ]
  },
  {
   "cell_type": "code",
   "execution_count": 6,
   "metadata": {},
   "outputs": [
    {
     "name": "stdout",
     "output_type": "stream",
     "text": [
      "Distancia en km: 628949330\n",
      "Distancia en mi: 390577533.93\n"
     ]
    }
   ],
   "source": [
    "distancia_tierra = 149597870\n",
    "distancia_jupiter = 778547200\n",
    "\n",
    "# Obtención de distancia en km\n",
    "distancia_km = distancia_jupiter - distancia_tierra\n",
    "print(\"Distancia en km: \" + str(distancia_km))\n",
    "\n",
    "# Conversión de km a mi\n",
    "distancia_mi = distancia_km * 0.621\n",
    "print(\"Distancia en mi: \" + str(distancia_mi))"
   ]
  },
  {
   "cell_type": "markdown",
   "metadata": {},
   "source": [
    "### Ejercicio 2: Conversión de cadenas en números y uso de valores absolutos"
   ]
  },
  {
   "cell_type": "code",
   "execution_count": 3,
   "metadata": {},
   "outputs": [
    {
     "name": "stdout",
     "output_type": "stream",
     "text": [
      "Distancia en km: 628949330\n",
      "Distancia en mi: 390577533.93\n"
     ]
    }
   ],
   "source": [
    "planeta1 = input('Introduzca la distancia del sol para el primer planeta en KM')\n",
    "planeta2 = input('Introduzca la distancia desde el sol para el segundo planeta en KM')\n",
    "\n",
    "# Conversión de las cadenas a números enteros\n",
    "planeta1 = int(planeta1)\n",
    "planeta2 = int(planeta2)\n",
    "\n",
    "# Realizar el cálculo y determinar el valor absoluto\n",
    "distancia_km = planeta2 - planeta1\n",
    "print(\"Distancia en km: \" + str(distancia_km))\n",
    "\n",
    "# Conversión de km a mi\n",
    "distancia_mi = distancia_km * 0.621\n",
    "print(\"Distancia en mi: \" + str(abs(distancia_mi)))"
   ]
  }
 ],
 "metadata": {
  "interpreter": {
   "hash": "916dbcbb3f70747c44a77c7bcd40155683ae19c65e1c03b4aa3499c5328201f1"
  },
  "kernelspec": {
   "display_name": "Python 3.8.10 64-bit",
   "language": "python",
   "name": "python3"
  },
  "language_info": {
   "codemirror_mode": {
    "name": "ipython",
    "version": 3
   },
   "file_extension": ".py",
   "mimetype": "text/x-python",
   "name": "python",
   "nbconvert_exporter": "python",
   "pygments_lexer": "ipython3",
   "version": "3.8.10"
  },
  "orig_nbformat": 4
 },
 "nbformat": 4,
 "nbformat_minor": 2
}
